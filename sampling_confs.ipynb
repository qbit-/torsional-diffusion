{
 "cells": [
  {
   "cell_type": "code",
   "execution_count": 10,
   "metadata": {},
   "outputs": [],
   "source": [
    "import json\n",
    "from pathlib import Path\n",
    "import pickle\n",
    "import pandas as pd\n",
    "from rdkit import Chem\n",
    "from rdkit.Chem import PandasTools\n",
    "from tqdm import tqdm"
   ]
  },
  {
   "cell_type": "code",
   "execution_count": 11,
   "metadata": {},
   "outputs": [],
   "source": [
    "DATASET = 'DRUGS'\n",
    "NUM_CONFS = 50\n",
    "\n",
    "DATA_PATH = Path(f'data/{DATASET}')\n",
    "DATASET_UNPROCESSED = DATA_PATH / DATASET\n",
    "summary_path = DATA_PATH / 'summary_preprocessed.json'\n",
    "\n",
    "smiles_all = json.loads((DATA_PATH / 'summary_preprocessed.json').read_text())\n",
    "smiles_sampling = {k: v for k, v in smiles_all.items() if v.get('split') == 'test'}\n",
    "smiles_sampling_small = {k: v for k, v in smiles_all.items() if v.get('split') == 'test' and 'small' in v.get('subsets', [])}"
   ]
  },
  {
   "cell_type": "code",
   "execution_count": 12,
   "metadata": {},
   "outputs": [
    {
     "data": {
      "text/plain": [
       "269743"
      ]
     },
     "execution_count": 12,
     "metadata": {},
     "output_type": "execute_result"
    }
   ],
   "source": [
    "# Write smiles from test set to torsional diffusion format\n",
    "output_csv = DATA_PATH / 'test_smiles_small.csv'\n",
    "output_csv.write_text('smi, n_confs, smi_fixed')\n",
    "output_csv.write_text('\\n'.join(f'{k}, {NUM_CONFS}, {k}' for k in smiles_sampling_small.keys()))"
   ]
  },
  {
   "cell_type": "markdown",
   "metadata": {},
   "source": [
    "##### Write out validation set smiles and conformations"
   ]
  },
  {
   "cell_type": "code",
   "execution_count": 15,
   "metadata": {},
   "outputs": [],
   "source": [
    "DATASET = 'DRUGS'\n",
    "SPLIT = 'val'\n",
    "\n",
    "DATA_PATH = Path(f'data/{DATASET}')\n",
    "DATASET_UNPROCESSED = DATA_PATH / DATASET.lower()\n",
    "summary_path = DATA_PATH / 'summary_preprocessed.json'\n",
    "\n",
    "def geom_to_df(data_path: str, summary_path: str, split: str = 'val', subset: str = 'small'):\n",
    "    print(f'Data path: {data_path}, summary path: {summary_path}')\n",
    "    summary = json.loads(Path(summary_path).read_text())\n",
    "    smiles = [k for k, v in summary.items() if v.get('split') == split and 'small' in v.get('subsets', [])]\n",
    "    result = []\n",
    "    n_skipped = 0\n",
    "    for smi in tqdm(smiles, desc='Processing molecules'):\n",
    "        mol_path = Path(data_path) / (smi + '.pickle')\n",
    "        try:\n",
    "            conf_dict = pickle.loads(Path(mol_path).read_bytes())\n",
    "        except FileNotFoundError:\n",
    "            # print(f'File {mol_path} not found')\n",
    "            n_skipped += 1\n",
    "            continue\n",
    "        confs = [Chem.RemoveHs(elem['rd_mol']) for elem in conf_dict['conformers']]\n",
    "        result.append(pd.DataFrame({'smiles': [Chem.CanonSmiles(smi),]*len(confs), 'ROMol': confs}))\n",
    "    print(f'Skipped {n_skipped} molecules')\n",
    "    return pd.concat(result)\n",
    "\n",
    "def geom_to_torsional_diffusion_input(data_path: str, summary_path: str, split: str = 'val', subset: str = 'small'):\n",
    "    df = geom_to_df(data_path, summary_path, split, subset)\n",
    "    grouped_by_smiles = df.groupby('smiles')\n",
    "    num_confs_by_smiles = grouped_by_smiles['ROMol'].aggregate('count')\n",
    "    num_confs_by_smiles.name = 'num_confs'\n",
    "    num_confs_by_smiles = num_confs_by_smiles // 2\n",
    "    res = num_confs_by_smiles.reset_index()\n",
    "    res.assign(smiles_copy=res['smiles']).to_csv(Path(summary_path).with_name(f'{split}_smiles_{subset}.csv'), index=False)"
   ]
  },
  {
   "cell_type": "code",
   "execution_count": 16,
   "metadata": {},
   "outputs": [
    {
     "name": "stdout",
     "output_type": "stream",
     "text": [
      "Data path: data/DRUGS/drugs, summary path: data/DRUGS/summary_preprocessed.json\n"
     ]
    },
    {
     "name": "stderr",
     "output_type": "stream",
     "text": [
      "Processing molecules: 100%|██████████| 1656/1656 [00:29<00:00, 56.84it/s] \n"
     ]
    },
    {
     "name": "stdout",
     "output_type": "stream",
     "text": [
      "Skipped 167 molecules\n"
     ]
    }
   ],
   "source": [
    "SPLIT = 'val'\n",
    "data = geom_to_df(str(DATASET_UNPROCESSED), summary_path, SPLIT)\n",
    "PandasTools.WriteSDF(data, f'data/DRUGS/{SPLIT}_small.sdf', molColName='ROMol', properties=['smiles'])"
   ]
  },
  {
   "cell_type": "code",
   "execution_count": 17,
   "metadata": {},
   "outputs": [
    {
     "name": "stdout",
     "output_type": "stream",
     "text": [
      "Data path: data/DRUGS/drugs, summary path: data/DRUGS/summary_preprocessed.json\n"
     ]
    },
    {
     "name": "stderr",
     "output_type": "stream",
     "text": [
      "Processing molecules: 100%|██████████| 1656/1656 [00:33<00:00, 49.68it/s] \n"
     ]
    },
    {
     "name": "stdout",
     "output_type": "stream",
     "text": [
      "Skipped 167 molecules\n"
     ]
    }
   ],
   "source": [
    "geom_to_torsional_diffusion_input(str(DATASET_UNPROCESSED), summary_path, SPLIT)"
   ]
  },
  {
   "cell_type": "code",
   "execution_count": 18,
   "metadata": {},
   "outputs": [
    {
     "name": "stdout",
     "output_type": "stream",
     "text": [
      "Data path: data/DRUGS/drugs, summary path: data/DRUGS/summary_preprocessed.json\n"
     ]
    },
    {
     "name": "stderr",
     "output_type": "stream",
     "text": [
      "Processing molecules: 100%|██████████| 2910/2910 [01:15<00:00, 38.57it/s] \n"
     ]
    },
    {
     "name": "stdout",
     "output_type": "stream",
     "text": [
      "Skipped 415 molecules\n"
     ]
    }
   ],
   "source": [
    "SPLIT = 'test'\n",
    "data = geom_to_df(str(DATASET_UNPROCESSED), summary_path, SPLIT)\n",
    "PandasTools.WriteSDF(data, f'data/DRUGS/{SPLIT}_small.sdf', molColName='ROMol', properties=['smiles'])"
   ]
  },
  {
   "cell_type": "code",
   "execution_count": 19,
   "metadata": {},
   "outputs": [
    {
     "name": "stdout",
     "output_type": "stream",
     "text": [
      "Data path: data/DRUGS/drugs, summary path: data/DRUGS/summary_preprocessed.json\n"
     ]
    },
    {
     "name": "stderr",
     "output_type": "stream",
     "text": [
      "Processing molecules: 100%|██████████| 2910/2910 [00:49<00:00, 58.60it/s] \n"
     ]
    },
    {
     "name": "stdout",
     "output_type": "stream",
     "text": [
      "Skipped 415 molecules\n"
     ]
    }
   ],
   "source": [
    "geom_to_torsional_diffusion_input(str(DATASET_UNPROCESSED), summary_path, SPLIT)"
   ]
  },
  {
   "cell_type": "markdown",
   "metadata": {},
   "source": [
    "##### Assemble the samples from pieces"
   ]
  },
  {
   "cell_type": "code",
   "execution_count": 2,
   "metadata": {},
   "outputs": [],
   "source": [
    "import pickle\n",
    "from pathlib import Path\n",
    "import pandas as pd\n",
    "from typing import Any\n",
    "from tqdm.auto import tqdm\n",
    "from rdkit import Chem\n",
    "from rdkit.Chem import PandasTools"
   ]
  },
  {
   "cell_type": "code",
   "execution_count": 3,
   "metadata": {},
   "outputs": [],
   "source": [
    "data_pieces = ['data/PLATINUM/drugs_cosmic_weights_50confs_20steps_0.pkl',\n",
    "               'data/PLATINUM/drugs_cosmic_weights_50confs_20steps_1.pkl',\n",
    "               'data/PLATINUM/drugs_cosmic_weights_50confs_20steps_2.pkl',\n",
    "]\n",
    "\n",
    "def pkl_to_dataframe(input_pkl: str) -> pd.DataFrame:\n",
    "    dict_data = pickle.load(Path(input_pkl).open('rb'))\n",
    "    result = []\n",
    "    for smi, confs in tqdm(dict_data.items(), desc='molecules'):\n",
    "            canon_smi = Chem.CanonSmiles(smi)\n",
    "            confs_nohs = [Chem.RemoveHs(cnf) for cnf in confs]\n",
    "            data = pd.DataFrame({'smiles': [canon_smi]*len(confs_nohs), 'ROMol': confs_nohs})\n",
    "            result.append(data)\n",
    "    return pd.concat(result)\n",
    "\n",
    "def assemble_sdf(pieces: list[str], out_sdf: str) -> None:\n",
    "    result = []\n",
    "    for piece in tqdm(pieces, desc='parts'):\n",
    "        data = pkl_to_dataframe(piece)\n",
    "        result.append(data)\n",
    "    PandasTools.WriteSDF(pd.concat(result), out_sdf, molColName='ROMol', properties=['smiles'])"
   ]
  },
  {
   "cell_type": "code",
   "execution_count": 7,
   "metadata": {},
   "outputs": [
    {
     "data": {
      "application/vnd.jupyter.widget-view+json": {
       "model_id": "ccd7b014efe042fdada68b067f9408ad",
       "version_major": 2,
       "version_minor": 0
      },
      "text/plain": [
       "parts:   0%|          | 0/3 [00:00<?, ?it/s]"
      ]
     },
     "metadata": {},
     "output_type": "display_data"
    },
    {
     "data": {
      "application/vnd.jupyter.widget-view+json": {
       "model_id": "7f59123fd8bd47708ce2bdc825c21ab5",
       "version_major": 2,
       "version_minor": 0
      },
      "text/plain": [
       "molecules:   0%|          | 0/1518 [00:00<?, ?it/s]"
      ]
     },
     "metadata": {},
     "output_type": "display_data"
    },
    {
     "data": {
      "application/vnd.jupyter.widget-view+json": {
       "model_id": "7db36931245e4b0296d481fc850eac23",
       "version_major": 2,
       "version_minor": 0
      },
      "text/plain": [
       "molecules:   0%|          | 0/1518 [00:00<?, ?it/s]"
      ]
     },
     "metadata": {},
     "output_type": "display_data"
    },
    {
     "data": {
      "application/vnd.jupyter.widget-view+json": {
       "model_id": "8e495175e05345bfbb3ab8c2579a9b68",
       "version_major": 2,
       "version_minor": 0
      },
      "text/plain": [
       "molecules:   0%|          | 0/1507 [00:00<?, ?it/s]"
      ]
     },
     "metadata": {},
     "output_type": "display_data"
    }
   ],
   "source": [
    "assemble_sdf(data_pieces, 'data/PLATINUM/drugs_cosmic_weights_50confs_20steps.sdf')"
   ]
  },
  {
   "cell_type": "markdown",
   "metadata": {},
   "source": [
    "##### Transform sampled pickles into SDF"
   ]
  },
  {
   "cell_type": "code",
   "execution_count": 8,
   "metadata": {},
   "outputs": [
    {
     "data": {
      "application/vnd.jupyter.widget-view+json": {
       "model_id": "72c3a2bee3054c329ed9ae27bf3ded8d",
       "version_major": 2,
       "version_minor": 0
      },
      "text/plain": [
       "molecules:   0%|          | 0/2902 [00:00<?, ?it/s]"
      ]
     },
     "metadata": {},
     "output_type": "display_data"
    }
   ],
   "source": [
    "# Write sampled test set to SDF\n",
    "data = pkl_to_dataframe('data/DRUGS/sampled_test_smiles_small_50confs_20steps.pkl')\n",
    "PandasTools.WriteSDF(data, 'data/DRUGS/sampled_test_smiles_small_50confs_20steps.sdf', molColName='ROMol', properties=['smiles'])"
   ]
  },
  {
   "cell_type": "code",
   "execution_count": 9,
   "metadata": {},
   "outputs": [
    {
     "data": {
      "application/vnd.jupyter.widget-view+json": {
       "model_id": "c9e8aa407408477181e211c4615c4b94",
       "version_major": 2,
       "version_minor": 0
      },
      "text/plain": [
       "molecules:   0%|          | 0/1464 [00:00<?, ?it/s]"
      ]
     },
     "metadata": {},
     "output_type": "display_data"
    }
   ],
   "source": [
    "# Write sampled val set to SDF\n",
    "data = pkl_to_dataframe('data/DRUGS/sampled_val_smiles_small_50confs_20steps.pkl')\n",
    "PandasTools.WriteSDF(data, 'data/DRUGS/sampled_val_smiles_small_50confs_20steps.sdf', molColName='ROMol', properties=['smiles'])"
   ]
  }
 ],
 "metadata": {
  "kernelspec": {
   "display_name": "Python 3",
   "language": "python",
   "name": "python3"
  },
  "language_info": {
   "codemirror_mode": {
    "name": "ipython",
    "version": 3
   },
   "file_extension": ".py",
   "mimetype": "text/x-python",
   "name": "python",
   "nbconvert_exporter": "python",
   "pygments_lexer": "ipython3",
   "version": "3.9.16"
  },
  "orig_nbformat": 4
 },
 "nbformat": 4,
 "nbformat_minor": 2
}
