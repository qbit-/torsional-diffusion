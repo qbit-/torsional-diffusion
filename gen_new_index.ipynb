{
 "cells": [
  {
   "cell_type": "code",
   "execution_count": 15,
   "metadata": {},
   "outputs": [],
   "source": [
    "import glob\n",
    "import os.path as osp\n",
    "import json\n",
    "from pathlib  import Path\n",
    "import pickle\n",
    "\n",
    "import numpy as np"
   ]
  },
  {
   "cell_type": "code",
   "execution_count": 16,
   "metadata": {},
   "outputs": [],
   "source": [
    "DATA_PATH = Path('data/QM9')\n",
    "DATASET_UNPROCESSED = DATA_PATH / 'qm9'"
   ]
  },
  {
   "cell_type": "code",
   "execution_count": 17,
   "metadata": {},
   "outputs": [],
   "source": [
    "smiles_all = json.loads((DATA_PATH / 'summary_preprocessed.json').read_text())\n",
    "smiles_small = {k: v for k, v in smiles_all.items() if 'full' in v.get('subsets', [])}"
   ]
  },
  {
   "cell_type": "code",
   "execution_count": 18,
   "metadata": {},
   "outputs": [
    {
     "name": "stdout",
     "output_type": "stream",
     "text": [
      "Number of SMILES in the original dataset: 133258\n",
      "Number of SMILES in the COSMIC subsampled dataset: 133008\n"
     ]
    }
   ],
   "source": [
    "print(f\"Number of SMILES in the original dataset: {len(smiles_all)}\\n\"\n",
    "      f\"Number of SMILES in the COSMIC subsampled dataset: {len(smiles_small)}\")"
   ]
  },
  {
   "cell_type": "code",
   "execution_count": 19,
   "metadata": {},
   "outputs": [
    {
     "name": "stdout",
     "output_type": "stream",
     "text": [
      "Number of pickle files: 133232 is the same as the number of SMILES in COSMIC: 133258\n"
     ]
    }
   ],
   "source": [
    "pickles = np.array(sorted(glob.glob(osp.join(DATASET_UNPROCESSED, '*.pickle'))))\n",
    "print(f\"Number of pickle files: {len(pickles)} is the same as the number of SMILES in COSMIC: {len(smiles_all)}\")"
   ]
  },
  {
   "cell_type": "code",
   "execution_count": 20,
   "metadata": {},
   "outputs": [
    {
     "name": "stdout",
     "output_type": "stream",
     "text": [
      "Split of the torsional-diffusion dataset:\n",
      "train: 106586 validation: 13323 test: 13323\n"
     ]
    }
   ],
   "source": [
    "train, val, test = np.load(DATA_PATH / 'split.npy', allow_pickle=True)\n",
    "print(f\"Split of the torsional-diffusion dataset:\\ntrain: {len(train)} validation: {len(val)} test: {len(test)}\")"
   ]
  },
  {
   "cell_type": "code",
   "execution_count": 23,
   "metadata": {},
   "outputs": [
    {
     "name": "stdout",
     "output_type": "stream",
     "text": [
      "Split of the COSMIC dataset:\n",
      "train: 109318 validation: 7134 test: 16556\n"
     ]
    }
   ],
   "source": [
    "smiles_small = {k: v for k, v in smiles_all.items() if 'full' in v.get('subsets', [])}\n",
    "small_train_old = {k: v for k, v in smiles_small.items() if v['split'] == 'train'}\n",
    "small_val_old = {k: v for k, v in smiles_small.items() if v['split'] == 'val'}\n",
    "small_test_old = {k: v for k, v in smiles_small.items() if v['split'] == 'test'}\n",
    "print(f\"Split of the COSMIC dataset:\\ntrain: {len(small_train_old)} validation: {len(small_val_old)} test: {len(small_test_old)}\")"
   ]
  },
  {
   "cell_type": "code",
   "execution_count": 24,
   "metadata": {},
   "outputs": [],
   "source": [
    "def create_new_index(dataset_root, split_idx_file_old, smiles_use_list):\n",
    "    \"\"\"Creates a new index for the dataset based on the smiles_use_list.\"\"\"\n",
    "    train, val, test = np.load(split_idx_file_old, allow_pickle=True)\n",
    "    train_smiles, val_smiles, test_smiles = smiles_use_list\n",
    "    \n",
    "    pickles = np.array(sorted(glob.glob(osp.join(dataset_root, '*.pickle'))))\n",
    "    index = np.arange(len(pickles))\n",
    "    index_use = index[np.concatenate([train, val, test])]\n",
    "    pickles_use = pickles[index_use]\n",
    "    split_train = []\n",
    "    split_val = []\n",
    "    split_test = []\n",
    "    for idx, pickle_file in zip(index_use, pickles_use):\n",
    "        obj = pickle.load(open(pickle_file, 'rb'))\n",
    "        if obj['smiles'] in train_smiles:\n",
    "            split_train.append(idx)\n",
    "        elif obj['smiles'] in val_smiles:\n",
    "            split_val.append(idx)\n",
    "        elif obj['smiles'] in test_smiles:\n",
    "            split_test.append(idx)\n",
    "        else:\n",
    "            continue\n",
    "    return [np.array(split_train), np.array(split_val), np.array(split_test)]"
   ]
  },
  {
   "cell_type": "code",
   "execution_count": 25,
   "metadata": {},
   "outputs": [],
   "source": [
    "new_splits = create_new_index(DATASET_UNPROCESSED, DATA_PATH / 'split.npy', [small_train_old, small_val_old, small_test_old])"
   ]
  },
  {
   "cell_type": "code",
   "execution_count": 26,
   "metadata": {},
   "outputs": [],
   "source": [
    "np.save(DATA_PATH / 'full_split.npy', np.array(new_splits, dtype=object), allow_pickle=True)"
   ]
  },
  {
   "cell_type": "code",
   "execution_count": 27,
   "metadata": {},
   "outputs": [
    {
     "name": "stdout",
     "output_type": "stream",
     "text": [
      "Split of the COSMIC dataset:\n",
      "train: 109318 validation: 7134 test: 16556\n"
     ]
    }
   ],
   "source": [
    "smiles_small = {k: v for k, v in smiles_all.items() if 'full' in v.get('subsets', [])}\n",
    "small_train_old = {k: v for k, v in smiles_small.items() if v['split'] == 'train'}\n",
    "small_val_old = {k: v for k, v in smiles_small.items() if v['split'] == 'val'}\n",
    "small_test_old = {k: v for k, v in smiles_small.items() if v['split'] == 'test'}\n",
    "print(f\"Split of the COSMIC dataset:\\ntrain: {len(small_train_old)} validation: {len(small_val_old)} test: {len(small_test_old)}\")"
   ]
  },
  {
   "cell_type": "code",
   "execution_count": 28,
   "metadata": {},
   "outputs": [
    {
     "name": "stdout",
     "output_type": "stream",
     "text": [
      "Split of the new index set:\n",
      "train: 109318 validation:  7134 test: 16556\n"
     ]
    }
   ],
   "source": [
    "small_train, small_val, small_test = np.load(DATA_PATH / 'full_split.npy', allow_pickle=True)\n",
    "print(f\"Split of the new index set:\\ntrain: {len(small_train)} validation:  {len(small_val)} test: {len(small_test)}\")"
   ]
  },
  {
   "cell_type": "code",
   "execution_count": null,
   "metadata": {},
   "outputs": [],
   "source": []
  }
 ],
 "metadata": {
  "kernelspec": {
   "display_name": "Python 3",
   "language": "python",
   "name": "python3"
  },
  "language_info": {
   "codemirror_mode": {
    "name": "ipython",
    "version": 3
   },
   "file_extension": ".py",
   "mimetype": "text/x-python",
   "name": "python",
   "nbconvert_exporter": "python",
   "pygments_lexer": "ipython3",
   "version": "3.9.16"
  },
  "orig_nbformat": 4
 },
 "nbformat": 4,
 "nbformat_minor": 2
}
